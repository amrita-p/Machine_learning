{
 "cells": [
  {
   "cell_type": "code",
   "execution_count": null,
   "metadata": {},
   "outputs": [],
   "source": [
    "!pip install xgboost"
   ]
  },
  {
   "cell_type": "code",
   "execution_count": 1,
   "metadata": {},
   "outputs": [],
   "source": [
    "%matplotlib inline\n",
    "import pandas as pd\n",
    "import numpy as np\n",
    "import matplotlib.pyplot as plt\n",
    "import seaborn as sns; sns.set()\n",
    "from sklearn.preprocessing import LabelEncoder\n",
    "from sklearn import preprocessing\n",
    "from sklearn.model_selection import train_test_split\n",
    "from sklearn.decomposition import PCA\n",
    "from sklearn import svm\n",
    "from sklearn.tree import DecisionTreeClassifier\n",
    "from sklearn.metrics import accuracy_score\n",
    "from sklearn.neighbors import KNeighborsClassifier\n",
    "from sklearn.ensemble import RandomForestClassifier\n",
    "from sklearn.datasets import make_classification\n",
    "from imblearn.over_sampling import SMOTE\n",
    "from sklearn.metrics import confusion_matrix\n",
    "from xgboost import XGBClassifier,XGBRegressor\n",
    "from sklearn.preprocessing import StandardScaler"
   ]
  },
  {
   "cell_type": "code",
   "execution_count": null,
   "metadata": {},
   "outputs": [],
   "source": [
    "#lb_make = LabelEncoder()\n",
    "#df = pd.read_csv('data/Accident_train.csv')\n",
    "#df['Policing_Area'] = lb_make.fit_transform(df['Policing_Area'].astype(str))\n",
    "#df['Weekday_of_Collision'] = lb_make.fit_transform(df['Weekday_of_Collision'].astype(str))\n",
    "#if df['Collision_Severity'].values[0] == 'Predict':\n",
    "    #print(df['Collision_Severity'].values[0])"
   ]
  },
  {
   "cell_type": "code",
   "execution_count": null,
   "metadata": {},
   "outputs": [],
   "source": [
    "#def increaseCountSkewedClasses(df,values):\n",
    "    #for i in values:\n",
    "        #is_Collision_Severity = df['Collision_Severity'] == i\n",
    "        #df_try = df[is_Collision_Severity]\n",
    "        #print('previous length: ',len(df_try))\n",
    "        #df = df.append([df_try]*4,ignore_index=True)\n",
    "        #is_Collision_Severity = df['Collision_Severity'] == i\n",
    "        #df_try = df[is_Collision_Severity]\n",
    "        #print('new length: ',len(df_try))\n",
    "    #return df"
   ]
  },
  {
   "cell_type": "code",
   "execution_count": 2,
   "metadata": {},
   "outputs": [],
   "source": [
    "def readingData(Location):\n",
    "    df = pd.read_csv(Location)\n",
    "    #print('Shape Before incresing the count: ',df.shape)\n",
    "    values = [1,2]\n",
    "    #df = increaseCountSkewedClasses(df,values)\n",
    "    #print('Shape After incresing the count: ',df.shape)\n",
    "    lb_make = LabelEncoder()\n",
    "    df['Policing_Area'] = lb_make.fit_transform(df['Policing_Area'].astype(str))\n",
    "    df['Weekday_of_Collision'] = lb_make.fit_transform(df['Weekday_of_Collision'].astype(str))\n",
    "    #Run only once\n",
    "    if 'Collision_Severity' in df.columns:\n",
    "        if df['Collision_Severity'].all() == 'Predict':\n",
    "            #print(df['Collision_Severity'].values[0])\n",
    "            del df['Collision_Severity']\n",
    "        else:\n",
    "            df['Collision_Severity_labels'] = df['Collision_Severity']\n",
    "            del df['Collision_Severity']\n",
    "    if 'Collision_Ref_No' in df.columns:\n",
    "        del df['Collision_Ref_No']\n",
    "    for n in df:\n",
    "        mean = df[n].mode()\n",
    "        df[n].fillna((df[n].mode()), inplace=True)\n",
    "    #df.isna()\n",
    "    if 'Collision_Severity_labels' in df.columns:\n",
    "        #print('Akshay')\n",
    "        X_TRAIN = df.iloc[:,0:-1]\n",
    "        X_LABELS = df.iloc[:,-1:]\n",
    "    else:\n",
    "        X_TRAIN = df.iloc[:,0:]\n",
    "        X_LABELS = pd.DataFrame(np.zeros((len(df), 1)))\n",
    "    return X_TRAIN.values,X_LABELS.values"
   ]
  },
  {
   "cell_type": "code",
   "execution_count": 3,
   "metadata": {},
   "outputs": [],
   "source": [
    "TRAIN,LABELS = readingData('data/Accident_train.csv')\n",
    "#TEST,TEST_LABELS = readingData('data/Accident_train_head.csv')\n",
    "TEST,_ = readingData('data/Accident_test.csv')"
   ]
  },
  {
   "cell_type": "code",
   "execution_count": 4,
   "metadata": {},
   "outputs": [
    {
     "data": {
      "text/plain": [
       "array([20.,  1., 17.,  2., 21., 13., 60., 10.,  7.,  1.,  1.,  5.,  9.,\n",
       "        6.,  1.])"
      ]
     },
     "execution_count": 4,
     "metadata": {},
     "output_type": "execute_result"
    }
   ],
   "source": [
    "TEST[0]"
   ]
  },
  {
   "cell_type": "code",
   "execution_count": 5,
   "metadata": {},
   "outputs": [
    {
     "data": {
      "text/plain": [
       "array([19.,  1.,  4.,  8., 14., 13., 60.,  1.,  1.,  1.,  1.,  2.,  9.,\n",
       "        9.,  1.])"
      ]
     },
     "execution_count": 5,
     "metadata": {},
     "output_type": "execute_result"
    }
   ],
   "source": [
    "TRAIN[0]"
   ]
  },
  {
   "cell_type": "code",
   "execution_count": 6,
   "metadata": {},
   "outputs": [],
   "source": [
    "def splitDataSet(TRAIN,LABELS):\n",
    "    x_train, x_test, y_train, y_test = train_test_split(TRAIN, LABELS, test_size=0.33, shuffle=True)\n",
    "    #X, y = make_classification(n_samples=1000, n_features=4,n_informative=2, n_redundant=0,random_state=0, shuffle=True)\n",
    "    return x_train, x_test, y_train, y_test"
   ]
  },
  {
   "cell_type": "code",
   "execution_count": 7,
   "metadata": {},
   "outputs": [],
   "source": [
    "x_train, x_test, y_train, y_test = splitDataSet(TRAIN,LABELS)"
   ]
  },
  {
   "cell_type": "code",
   "execution_count": null,
   "metadata": {},
   "outputs": [],
   "source": [
    "def LinearSVC(x_train,x_test,y_train,y_test=0):\n",
    "    lin_clf = svm.LinearSVC()\n",
    "    lin_clf.fit(x_train, y_train)\n",
    "    prediction = lin_clf.predict(x_test)\n",
    "    accuracy_score = accuracy_score(y_test,prediction)\n",
    "    return prediction,accuracy_score"
   ]
  },
  {
   "cell_type": "code",
   "execution_count": null,
   "metadata": {
    "scrolled": true
   },
   "outputs": [],
   "source": [
    "def OVOsVC(x_train,x_test,y_train,y_test=0):\n",
    "    clf = svm.SVC(decision_function_shape='ovo')\n",
    "    clf.fit(x_train, y_train)\n",
    "    prediction = clf.predict(x_test)\n",
    "    #for i,n in enumerate(prediction):\n",
    "        #if n != y_test[i]:\n",
    "            #print(str(i)+' '+str(y_test[i]))\n",
    "    accuracy_score = accuracy_score(y_test,prediction)\n",
    "    return prediction,accuracy_score"
   ]
  },
  {
   "cell_type": "code",
   "execution_count": null,
   "metadata": {},
   "outputs": [],
   "source": [
    "def DecisionTree(x_train,x_test,y_train,y_test=0):\n",
    "    clf = DecisionTreeClassifier(criterion='entropy',min_impurity_decrease=1.0)\n",
    "    clf.fit(x_train,y_train)\n",
    "    prediction = clf.predict(x_test)\n",
    "    accuracy_score = clf.score(x_test,y_test)\n",
    "    return prediction,accuracy_score"
   ]
  },
  {
   "cell_type": "code",
   "execution_count": null,
   "metadata": {},
   "outputs": [],
   "source": [
    "def kNN(x_train,x_test,y_train,y_test=0):\n",
    "    neigh = KNeighborsClassifier(n_neighbors=2)\n",
    "    neigh.fit(x_train,y_train) \n",
    "    KNeighborsClassifier(...)\n",
    "    prediction = neigh.predict(x_test)\n",
    "    accuracy_score = neigh.score(x_test,y_test)\n",
    "    return prediction,accuracy_score"
   ]
  },
  {
   "cell_type": "code",
   "execution_count": null,
   "metadata": {},
   "outputs": [],
   "source": [
    "def randomForest(x_train,x_test,y_train,y_test=0):\n",
    "    clf = RandomForestClassifier(max_depth=9, random_state=3)\n",
    "    sm = SMOTE(random_state=42)\n",
    "    X_res, y_res = sm.fit_sample(x_train,y_train)\n",
    "    clf.fit(X_res,y_res)\n",
    "    prediction = clf.predict(x_test)\n",
    "    accuracy_score = clf.score(x_test,y_test)\n",
    "    return prediction,accuracy_score"
   ]
  },
  {
   "cell_type": "code",
   "execution_count": 23,
   "metadata": {},
   "outputs": [],
   "source": [
    "def xgBoost(x_train,x_test,y_train,y_test=0):\n",
    "    # fit model no training data#\n",
    "    model = XGBClassifier()\n",
    "    model.fit(x_train, y_train.ravel())\n",
    "    # make predictions for test data\n",
    "    predictions = model.predict(x_test)\n",
    "    #accuracy_scores = accuracy_score(y_test.ravel(), predictions)\n",
    "    return predictions"
   ]
  },
  {
   "cell_type": "code",
   "execution_count": 24,
   "metadata": {
    "scrolled": false
   },
   "outputs": [
    {
     "name": "stderr",
     "output_type": "stream",
     "text": [
      "D:\\Anaconda\\lib\\site-packages\\sklearn\\preprocessing\\label.py:151: DeprecationWarning: The truth value of an empty array is ambiguous. Returning False, but in future this will result in an error. Use `array.size > 0` to check that an array is not empty.\n",
      "  if diff:\n"
     ]
    },
    {
     "data": {
      "text/plain": [
       "array([3, 3, 3, ..., 3, 3, 3], dtype=int64)"
      ]
     },
     "execution_count": 24,
     "metadata": {},
     "output_type": "execute_result"
    }
   ],
   "source": [
    "xgBoost(x_train, x_test, y_train, y_test)"
   ]
  },
  {
   "cell_type": "code",
   "execution_count": 25,
   "metadata": {},
   "outputs": [
    {
     "name": "stderr",
     "output_type": "stream",
     "text": [
      "D:\\Anaconda\\lib\\site-packages\\sklearn\\preprocessing\\label.py:151: DeprecationWarning: The truth value of an empty array is ambiguous. Returning False, but in future this will result in an error. Use `array.size > 0` to check that an array is not empty.\n",
      "  if diff:\n"
     ]
    }
   ],
   "source": [
    "np.savetxt(\"xgBoostsubmission.csv\",xgBoost(TRAIN,TEST,LABELS),fmt='%.4e',header='Collision_Severity')"
   ]
  },
  {
   "cell_type": "code",
   "execution_count": null,
   "metadata": {},
   "outputs": [],
   "source": [
    "#np.savetxt(\"LinearSVCsubmission7.csv\",LinearSVC(TRAIN,TEST,LABELS),fmt='%.4e',header='Collision_Severity')\n",
    "#np.savetxt(\"OVOsVCsubmission7.csv\",OVOsVC(TRAIN,TEST,LABELS),fmt='%.4e',header='Collision_Severity')\n",
    "#np.savetxt(\"DecisonTreesubmission7.csv\",DecisionTree(TRAIN,TEST,LABELS),fmt='%.4e',header='Collision_Severity')\n",
    "#np.savetxt(\"RandomForestsubmission7.csv\",randomForest(TRAIN,TEST,LABELS),fmt='%.4e',header='Collision_Severity')\n",
    "#np.savetxt(\"xgBoostsubmission.csv\",xgBoost(TRAIN,TEST,LABELS),fmt='%.4e',header='Collision_Severity')\n",
    "#OVOsVC(TRAIN,TEST,LABELS,TEST_LABELS)"
   ]
  }
 ],
 "metadata": {
  "kernelspec": {
   "display_name": "Python 3",
   "language": "python",
   "name": "python3"
  },
  "language_info": {
   "codemirror_mode": {
    "name": "ipython",
    "version": 3
   },
   "file_extension": ".py",
   "mimetype": "text/x-python",
   "name": "python",
   "nbconvert_exporter": "python",
   "pygments_lexer": "ipython3",
   "version": "3.6.5"
  }
 },
 "nbformat": 4,
 "nbformat_minor": 2
}
