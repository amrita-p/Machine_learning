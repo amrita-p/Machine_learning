{
 "cells": [
  {
   "cell_type": "code",
   "execution_count": 1,
   "metadata": {},
   "outputs": [],
   "source": [
    "%matplotlib inline\n",
    "import pandas as pd\n",
    "import numpy as np\n",
    "import matplotlib.pyplot as plt\n",
    "import seaborn as sns; sns.set()\n",
    "from sklearn.preprocessing import LabelEncoder\n",
    "from sklearn import preprocessing\n",
    "from sklearn.model_selection import train_test_split\n",
    "from sklearn.decomposition import PCA\n",
    "from sklearn import svm\n",
    "from sklearn.tree import DecisionTreeClassifier\n",
    "from sklearn.metrics import accuracy_score"
   ]
  },
  {
   "cell_type": "code",
   "execution_count": 86,
   "metadata": {},
   "outputs": [],
   "source": [
    "#df = pd.read_csv('data/Accident_test.csv')\n",
    "#if df['Collision_Severity'].values[0] == 'Predict':\n",
    "    #print(df['Collision_Severity'].values[0])"
   ]
  },
  {
   "cell_type": "code",
   "execution_count": 60,
   "metadata": {},
   "outputs": [],
   "source": [
    "def readingData(Location):\n",
    "    df = pd.read_csv(Location)\n",
    "    lb_make = LabelEncoder()\n",
    "    df['Policing_Area'] = lb_make.fit_transform(df['Policing_Area'].astype(str))\n",
    "    df['Weekday_of_Collision'] = lb_make.fit_transform(df['Weekday_of_Collision'].astype(str))\n",
    "    #Run only once\n",
    "    if 'Collision_Severity' in df.columns:\n",
    "        if df['Collision_Severity'].all() == 'Predict':\n",
    "            #print(df['Collision_Severity'].values[0])\n",
    "            del df['Collision_Severity']\n",
    "        else:\n",
    "            df['Collision_Severity_labels'] = df['Collision_Severity']\n",
    "            del df['Collision_Severity']\n",
    "    if 'Collision_Ref_No' in df.columns:\n",
    "        del df['Collision_Ref_No']\n",
    "    for n in df:\n",
    "        mean = df[n].mean()\n",
    "        df[n].fillna((df[n].mean()), inplace=True)\n",
    "    #df.isna()\n",
    "    if 'Collision_Severity_labels' in df.columns:\n",
    "        #print('Akshay')\n",
    "        X_TRAIN = df.iloc[:,0:-1]\n",
    "        X_LABELS = df.iloc[:,-1:]\n",
    "    else:\n",
    "        X_TRAIN = df.iloc[:,0:]\n",
    "        X_LABELS = pd.DataFrame(np.zeros((len(df), 1)))\n",
    "    return X_TRAIN.values,X_LABELS.values"
   ]
  },
  {
   "cell_type": "code",
   "execution_count": 76,
   "metadata": {},
   "outputs": [],
   "source": [
    "TRAIN,LABELS = readingData('data/Accident_train.csv')\n",
    "TEST,TEST_LABELS = readingData('data/Accident_train_head.csv')\n",
    "#TEST,_ = readingData('data/Accident_test.csv')"
   ]
  },
  {
   "cell_type": "code",
   "execution_count": 77,
   "metadata": {},
   "outputs": [
    {
     "data": {
      "text/plain": [
       "array([ 1.,  0.,  4.,  8., 14., 13., 60.,  1.,  1.,  1.,  1.,  2.,  9.,\n",
       "        9.,  1.])"
      ]
     },
     "execution_count": 77,
     "metadata": {},
     "output_type": "execute_result"
    }
   ],
   "source": [
    "TEST[0]"
   ]
  },
  {
   "cell_type": "code",
   "execution_count": 78,
   "metadata": {},
   "outputs": [
    {
     "data": {
      "text/plain": [
       "array([19.,  1.,  4.,  8., 14., 13., 60.,  1.,  1.,  1.,  1.,  2.,  9.,\n",
       "        9.,  1.])"
      ]
     },
     "execution_count": 78,
     "metadata": {},
     "output_type": "execute_result"
    }
   ],
   "source": [
    "TRAIN[0]"
   ]
  },
  {
   "cell_type": "code",
   "execution_count": null,
   "metadata": {},
   "outputs": [],
   "source": [
    "def splitDataSet(TRAIN,LABELS):\n",
    "    x_train, x_test, y_train, y_test = train_test_split(TRAIN, LABELS, test_size=0.33, random_state=42)\n",
    "    return x_train, x_test, y_train, y_test"
   ]
  },
  {
   "cell_type": "code",
   "execution_count": null,
   "metadata": {},
   "outputs": [],
   "source": [
    "x_train, x_test, y_train, y_test = splitDataSet(TRAIN,LABELS)"
   ]
  },
  {
   "cell_type": "code",
   "execution_count": 83,
   "metadata": {},
   "outputs": [],
   "source": [
    "def LinearSVC(x_train,x_test,y_train,y_test):\n",
    "    lin_clf = svm.LinearSVC()\n",
    "    lin_clf.fit(x_train, y_train)\n",
    "    prediction = lin_clf.predict(x_test)\n",
    "    return accuracy_score(y_test,prediction)\n",
    "    #return prediction"
   ]
  },
  {
   "cell_type": "code",
   "execution_count": 90,
   "metadata": {
    "scrolled": true
   },
   "outputs": [],
   "source": [
    "def OVOsVC(x_train,x_test,y_train,y_test):\n",
    "    clf = svm.SVC(decision_function_shape='ovo')\n",
    "    clf.fit(x_train, y_train)\n",
    "    prediction = clf.predict(x_test)\n",
    "    #return accuracy_score(y_test,prediction)\n",
    "    return prediction"
   ]
  },
  {
   "cell_type": "code",
   "execution_count": 81,
   "metadata": {},
   "outputs": [],
   "source": [
    "def DecisionTree(x_train,x_test,y_train,y_test):\n",
    "    clf = DecisionTreeClassifier(criterion='entropy',random_state=42)\n",
    "    clf.fit(x_train,y_train)\n",
    "    predicted = clf.predict(x_test)\n",
    "    return clf.score(x_test,y_test)\n",
    "    #return predicted"
   ]
  },
  {
   "cell_type": "code",
   "execution_count": 85,
   "metadata": {
    "scrolled": true
   },
   "outputs": [
    {
     "name": "stderr",
     "output_type": "stream",
     "text": [
      "D:\\Anaconda\\lib\\site-packages\\sklearn\\utils\\validation.py:578: DataConversionWarning: A column-vector y was passed when a 1d array was expected. Please change the shape of y to (n_samples, ), for example using ravel().\n",
      "  y = column_or_1d(y, warn=True)\n"
     ]
    },
    {
     "name": "stdout",
     "output_type": "stream",
     "text": [
      "Accuracy with LinearSVC:  1.0\n"
     ]
    },
    {
     "name": "stderr",
     "output_type": "stream",
     "text": [
      "D:\\Anaconda\\lib\\site-packages\\sklearn\\utils\\validation.py:578: DataConversionWarning: A column-vector y was passed when a 1d array was expected. Please change the shape of y to (n_samples, ), for example using ravel().\n",
      "  y = column_or_1d(y, warn=True)\n"
     ]
    },
    {
     "name": "stdout",
     "output_type": "stream",
     "text": [
      "Accuracy with OVOsVC:  1.0\n",
      "Accuracy with DecisionTree:  0.8\n"
     ]
    }
   ],
   "source": [
    "print('Accuracy with LinearSVC: ',LinearSVC(TRAIN,TEST,LABELS,TEST_LABELS))\n",
    "print('Accuracy with OVOsVC: ',OVOsVC(TRAIN,TEST,LABELS,TEST_LABELS))\n",
    "print('Accuracy with DecisionTree: ',DecisionTree(TRAIN,TEST,LABELS,TEST_LABELS))"
   ]
  },
  {
   "cell_type": "code",
   "execution_count": 97,
   "metadata": {},
   "outputs": [
    {
     "name": "stderr",
     "output_type": "stream",
     "text": [
      "D:\\Anaconda\\lib\\site-packages\\sklearn\\utils\\validation.py:578: DataConversionWarning: A column-vector y was passed when a 1d array was expected. Please change the shape of y to (n_samples, ), for example using ravel().\n",
      "  y = column_or_1d(y, warn=True)\n"
     ]
    }
   ],
   "source": [
    "np.savetxt(\"submission.csv\",OVOsVC(TRAIN,TEST,LABELS,TEST_LABELS),fmt='%.4e',header='Collision_Severity')\n",
    "#OVOsVC(TRAIN,TEST,LABELS,TEST_LABELS)"
   ]
  }
 ],
 "metadata": {
  "kernelspec": {
   "display_name": "Python 3",
   "language": "python",
   "name": "python3"
  },
  "language_info": {
   "codemirror_mode": {
    "name": "ipython",
    "version": 3
   },
   "file_extension": ".py",
   "mimetype": "text/x-python",
   "name": "python",
   "nbconvert_exporter": "python",
   "pygments_lexer": "ipython3",
   "version": "3.6.5"
  }
 },
 "nbformat": 4,
 "nbformat_minor": 2
}
